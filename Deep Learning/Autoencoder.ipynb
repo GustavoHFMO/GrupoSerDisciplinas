{
  "nbformat": 4,
  "nbformat_minor": 0,
  "metadata": {
    "colab": {
      "name": "Autoencoder.ipynb",
      "provenance": [],
      "collapsed_sections": [],
      "authorship_tag": "ABX9TyMOWkr0EaiKVSpRyVV220p6",
      "include_colab_link": true
    },
    "kernelspec": {
      "name": "python3",
      "display_name": "Python 3"
    },
    "language_info": {
      "name": "python"
    }
  },
  "cells": [
    {
      "cell_type": "markdown",
      "metadata": {
        "id": "view-in-github",
        "colab_type": "text"
      },
      "source": [
        "<a href=\"https://colab.research.google.com/github/GustavoHFMO/GrupoSerDisciplinas/blob/master/Autoencoder.ipynb\" target=\"_parent\"><img src=\"https://colab.research.google.com/assets/colab-badge.svg\" alt=\"Open In Colab\"/></a>"
      ]
    },
    {
      "cell_type": "markdown",
      "metadata": {
        "id": "UnlxrRZmy9Na"
      },
      "source": [
        "Código adaptado de: https://www.datatechnotes.com/2020/03/simple-autoencoder-example-with-keras-in-python.html"
      ]
    },
    {
      "cell_type": "code",
      "metadata": {
        "id": "t1hJnoucyLOb"
      },
      "source": [
        "# importando as bibliotecas\n",
        "from keras.datasets.mnist import load_data\n",
        "from keras.layers import Input, LeakyReLU\n",
        "from keras.layers import Dense\n",
        "from keras.models import Model\n",
        "import matplotlib.pyplot as plt\n",
        "from numpy import reshape"
      ],
      "execution_count": 1,
      "outputs": []
    },
    {
      "cell_type": "code",
      "metadata": {
        "colab": {
          "base_uri": "https://localhost:8080/"
        },
        "id": "gfivLMTwzCbJ",
        "outputId": "60737a58-13c4-4a6e-de6a-c92cf49e4e2f"
      },
      "source": [
        "# importando o conjunto de dados\n",
        "(xtrain, _), (xtest, _) = load_data()"
      ],
      "execution_count": 2,
      "outputs": [
        {
          "output_type": "stream",
          "text": [
            "Downloading data from https://storage.googleapis.com/tensorflow/tf-keras-datasets/mnist.npz\n",
            "11493376/11490434 [==============================] - 0s 0us/step\n",
            "11501568/11490434 [==============================] - 0s 0us/step\n"
          ],
          "name": "stdout"
        }
      ]
    },
    {
      "cell_type": "code",
      "metadata": {
        "id": "eZUf_qTAzMNR"
      },
      "source": [
        "# normalizando os dados para que eles fiquem no intervalo de [0, 1]\n",
        "xtrain = xtrain.astype('float32') / 255.\n",
        "xtest = xtest.astype('float32') / 255."
      ],
      "execution_count": 3,
      "outputs": []
    },
    {
      "cell_type": "code",
      "metadata": {
        "id": "PCRxO7OHzRra"
      },
      "source": [
        "# obtendo o tamanho dos dados para ajustar a entrada da rede\n",
        "input_size = xtrain.shape[1] * xtrain.shape[2]\n",
        "latent_size = 16"
      ],
      "execution_count": 4,
      "outputs": []
    },
    {
      "cell_type": "code",
      "metadata": {
        "id": "C64dmvYezcuf"
      },
      "source": [
        "# formatando os dados para que a rede consiga ler\n",
        "x_train = xtrain.reshape((len(xtrain), input_size))\n",
        "x_test = xtest.reshape((len(xtest), input_size))"
      ],
      "execution_count": 5,
      "outputs": []
    },
    {
      "cell_type": "code",
      "metadata": {
        "colab": {
          "base_uri": "https://localhost:8080/"
        },
        "id": "-wV6L2Xpz7U-",
        "outputId": "8e4bf645-04fc-4e8a-b81d-36c0d757f033"
      },
      "source": [
        "# Encoder - definindo a estrutura da etapa de comprimir os dados\n",
        "enc_input = Input(shape=(input_size,))\n",
        "enc_dense1 = Dense(units=256, activation=\"relu\")(enc_input)\n",
        "enc_activ1 = LeakyReLU()(enc_dense1)\n",
        "enc_dense2 = Dense(units=latent_size)(enc_activ1)\n",
        "enc_output = LeakyReLU()(enc_dense2)\n",
        "encoder = Model(enc_input, enc_output)\n",
        "encoder.summary()\n",
        "\n",
        "# Decoder - definindo a estrutura da etapa de reconstruir os dados\n",
        "dec_input = Input(shape=(latent_size,))\n",
        "dec_dense1 = Dense(units=256, activation=\"relu\")(dec_input)\n",
        "dec_activ1 = LeakyReLU()(dec_dense1)\n",
        "dec_dense2 = Dense(units=input_size, activation='sigmoid')(dec_activ1)\n",
        "dec_output = LeakyReLU()(dec_dense2)\n",
        "decoder = Model(dec_input, dec_output)\n",
        "decoder.summary()\n",
        "\n",
        "# Autoencoder - Agrupando as etapas de codificação e decodificação no modelo\n",
        "aen_input = Input(shape=(input_size,))\n",
        "aen_enc_output = encoder(aen_input)\n",
        "aen_dec_output = decoder(aen_enc_output)\n",
        "aen = Model(aen_input, aen_dec_output)\n",
        "aen.summary()"
      ],
      "execution_count": 6,
      "outputs": [
        {
          "output_type": "stream",
          "text": [
            "Model: \"model\"\n",
            "_________________________________________________________________\n",
            "Layer (type)                 Output Shape              Param #   \n",
            "=================================================================\n",
            "input_1 (InputLayer)         [(None, 784)]             0         \n",
            "_________________________________________________________________\n",
            "dense (Dense)                (None, 256)               200960    \n",
            "_________________________________________________________________\n",
            "leaky_re_lu (LeakyReLU)      (None, 256)               0         \n",
            "_________________________________________________________________\n",
            "dense_1 (Dense)              (None, 16)                4112      \n",
            "_________________________________________________________________\n",
            "leaky_re_lu_1 (LeakyReLU)    (None, 16)                0         \n",
            "=================================================================\n",
            "Total params: 205,072\n",
            "Trainable params: 205,072\n",
            "Non-trainable params: 0\n",
            "_________________________________________________________________\n",
            "Model: \"model_1\"\n",
            "_________________________________________________________________\n",
            "Layer (type)                 Output Shape              Param #   \n",
            "=================================================================\n",
            "input_2 (InputLayer)         [(None, 16)]              0         \n",
            "_________________________________________________________________\n",
            "dense_2 (Dense)              (None, 256)               4352      \n",
            "_________________________________________________________________\n",
            "leaky_re_lu_2 (LeakyReLU)    (None, 256)               0         \n",
            "_________________________________________________________________\n",
            "dense_3 (Dense)              (None, 784)               201488    \n",
            "_________________________________________________________________\n",
            "leaky_re_lu_3 (LeakyReLU)    (None, 784)               0         \n",
            "=================================================================\n",
            "Total params: 205,840\n",
            "Trainable params: 205,840\n",
            "Non-trainable params: 0\n",
            "_________________________________________________________________\n",
            "Model: \"model_2\"\n",
            "_________________________________________________________________\n",
            "Layer (type)                 Output Shape              Param #   \n",
            "=================================================================\n",
            "input_3 (InputLayer)         [(None, 784)]             0         \n",
            "_________________________________________________________________\n",
            "model (Functional)           (None, 16)                205072    \n",
            "_________________________________________________________________\n",
            "model_1 (Functional)         (None, 784)               205840    \n",
            "=================================================================\n",
            "Total params: 410,912\n",
            "Trainable params: 410,912\n",
            "Non-trainable params: 0\n",
            "_________________________________________________________________\n"
          ],
          "name": "stdout"
        }
      ]
    },
    {
      "cell_type": "code",
      "metadata": {
        "id": "itmdkotF0Jj4"
      },
      "source": [
        "# definindo o algoritmo de otimização e a função de custo\n",
        "aen.compile(optimizer=\"rmsprop\", loss=\"binary_crossentropy\")"
      ],
      "execution_count": 7,
      "outputs": []
    },
    {
      "cell_type": "code",
      "metadata": {
        "colab": {
          "base_uri": "https://localhost:8080/"
        },
        "id": "x9M6Qr7o0Meu",
        "outputId": "de2df1e6-8b50-435b-9a9e-db246198e3b5"
      },
      "source": [
        "# iniciando o treinamento do autoencoder\n",
        "aen.fit(x_train, x_train, epochs=20, batch_size=256, shuffle=True)"
      ],
      "execution_count": 8,
      "outputs": [
        {
          "output_type": "stream",
          "text": [
            "Epoch 1/20\n",
            "235/235 [==============================] - 6s 23ms/step - loss: 0.1997\n",
            "Epoch 2/20\n",
            "235/235 [==============================] - 5s 23ms/step - loss: 0.1459\n",
            "Epoch 3/20\n",
            "235/235 [==============================] - 5s 23ms/step - loss: 0.1322\n",
            "Epoch 4/20\n",
            "235/235 [==============================] - 5s 23ms/step - loss: 0.1238\n",
            "Epoch 5/20\n",
            "235/235 [==============================] - 5s 23ms/step - loss: 0.1184\n",
            "Epoch 6/20\n",
            "235/235 [==============================] - 5s 23ms/step - loss: 0.1146\n",
            "Epoch 7/20\n",
            "235/235 [==============================] - 5s 23ms/step - loss: 0.1118\n",
            "Epoch 8/20\n",
            "235/235 [==============================] - 5s 23ms/step - loss: 0.1096\n",
            "Epoch 9/20\n",
            "235/235 [==============================] - 5s 23ms/step - loss: 0.1077\n",
            "Epoch 10/20\n",
            "235/235 [==============================] - 5s 23ms/step - loss: 0.1062\n",
            "Epoch 11/20\n",
            "235/235 [==============================] - 5s 23ms/step - loss: 0.1051\n",
            "Epoch 12/20\n",
            "235/235 [==============================] - 5s 23ms/step - loss: 0.1040\n",
            "Epoch 13/20\n",
            "235/235 [==============================] - 5s 23ms/step - loss: 0.1031\n",
            "Epoch 14/20\n",
            "235/235 [==============================] - 5s 23ms/step - loss: 0.1023\n",
            "Epoch 15/20\n",
            "235/235 [==============================] - 5s 23ms/step - loss: 0.1016\n",
            "Epoch 16/20\n",
            "235/235 [==============================] - 5s 23ms/step - loss: 0.1010\n",
            "Epoch 17/20\n",
            "235/235 [==============================] - 5s 23ms/step - loss: 0.1004\n",
            "Epoch 18/20\n",
            "235/235 [==============================] - 5s 23ms/step - loss: 0.0999\n",
            "Epoch 19/20\n",
            "235/235 [==============================] - 5s 23ms/step - loss: 0.0995\n",
            "Epoch 20/20\n",
            "235/235 [==============================] - 5s 23ms/step - loss: 0.0990\n"
          ],
          "name": "stdout"
        },
        {
          "output_type": "execute_result",
          "data": {
            "text/plain": [
              "<keras.callbacks.History at 0x7f2c73ccf690>"
            ]
          },
          "metadata": {},
          "execution_count": 8
        }
      ]
    },
    {
      "cell_type": "code",
      "metadata": {
        "id": "lPMRD60e0Unm"
      },
      "source": [
        "# realizando a previsão do conjunto de teste com o modelo treinado\n",
        "encoded_images = encoder.predict(x_test)\n",
        "decoded_images = decoder.predict(encoded_images)\n",
        "pred_images = reshape(decoded_images, newshape=(decoded_images.shape[0], 28, 28)) "
      ],
      "execution_count": 9,
      "outputs": []
    },
    {
      "cell_type": "code",
      "metadata": {
        "colab": {
          "base_uri": "https://localhost:8080/",
          "height": 141
        },
        "id": "gQeUDp9v9ewp",
        "outputId": "697a475e-2f98-41b3-b18c-a1f4209dba41"
      },
      "source": [
        "# mostrando visualmente as previsões do modelo \n",
        "n = 10\n",
        "plt.figure(figsize=(10, 2))\n",
        "for i in range(n): \n",
        " ax = plt.subplot(2, n, i + 1)\n",
        " ax.get_xaxis().set_visible(False)\n",
        " ax.get_yaxis().set_visible(False)\n",
        " plt.imshow(xtest[i].reshape(28, 28))\n",
        " plt.gray()\n",
        " \n",
        " ax = plt.subplot(2, n, i + 1 + n)\n",
        " ax.get_xaxis().set_visible(False)\n",
        " ax.get_yaxis().set_visible(False)\n",
        " plt.imshow(pred_images[i].reshape(28, 28))\n",
        "\n",
        "plt.show()"
      ],
      "execution_count": 10,
      "outputs": [
        {
          "output_type": "display_data",
          "data": {
            "image/png": "[encoded data removed]",
            "text/plain": [
              "<Figure size 720x144 with 20 Axes>"
            ]
          },
          "metadata": {
            "needs_background": "light"
          }
        }
      ]
    }
  ]
}