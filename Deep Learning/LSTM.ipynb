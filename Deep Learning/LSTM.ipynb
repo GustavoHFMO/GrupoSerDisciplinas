{
  "nbformat": 4,
  "nbformat_minor": 0,
  "metadata": {
    "colab": {
      "name": "LSTM.ipynb",
      "provenance": [],
      "collapsed_sections": [],
      "authorship_tag": "ABX9TyNw4xs/3nvcyWbh/HnXgsGH",
      "include_colab_link": true
    },
    "kernelspec": {
      "name": "python3",
      "display_name": "Python 3"
    },
    "language_info": {
      "name": "python"
    }
  },
  "cells": [
    {
      "cell_type": "markdown",
      "metadata": {
        "id": "view-in-github",
        "colab_type": "text"
      },
      "source": [
        "<a href=\"https://colab.research.google.com/github/GustavoHFMO/GrupoSerDisciplinas/blob/master/LSTM.ipynb\" target=\"_parent\"><img src=\"https://colab.research.google.com/assets/colab-badge.svg\" alt=\"Open In Colab\"/></a>"
      ]
    },
    {
      "cell_type": "markdown",
      "metadata": {
        "id": "ScvwILfr1F7e"
      },
      "source": [
        "\n",
        "Código adaptado de: https://www.alpha-quantum.com/blog/long-short-term-memory-lstm-with-python/long-short-term-memory-lstm-with-python/\n",
        "\n"
      ]
    },
    {
      "cell_type": "code",
      "metadata": {
        "id": "38xB0Yl974p2"
      },
      "source": [
        "# importando as bibliotecas do projeto\n",
        "from sklearn.metrics import classification_report,roc_auc_score,confusion_matrix,accuracy_score,f1_score,roc_curve \n",
        "from sklearn.model_selection import train_test_split\n",
        "from sklearn.preprocessing import LabelEncoder\n",
        "\n",
        "from keras.layers import Activation, Dense, Dropout, Embedding, LSTM \n",
        "from keras.callbacks import ReduceLROnPlateau, EarlyStopping\n",
        "from keras.preprocessing.sequence import pad_sequences\n",
        "from tensorflow.keras.datasets import imdb\n",
        "from keras.models import Sequential\n",
        "\n",
        "\n",
        "import matplotlib.pyplot as plt\n",
        "import pandas as pd\n",
        "import numpy as np\n",
        "import sklearn\n",
        "import random\n",
        "import time"
      ],
      "execution_count": 25,
      "outputs": []
    },
    {
      "cell_type": "code",
      "metadata": {
        "id": "63sxOlyd10e0"
      },
      "source": [
        "# definindo uma semente para que os resultados sejam replicaveis\n",
        "random.seed(10)"
      ],
      "execution_count": 26,
      "outputs": []
    },
    {
      "cell_type": "markdown",
      "metadata": {
        "id": "VUn_c3GQ_ECa"
      },
      "source": [
        ""
      ]
    },
    {
      "cell_type": "code",
      "metadata": {
        "id": "PlMHocBP8DLO"
      },
      "source": [
        "# importando o conjunto de dados\n",
        "num_words = 5000\n",
        "( X_train , y_train ),( X_test , y_test ) = imdb.load_data(num_words = num_words)"
      ],
      "execution_count": 27,
      "outputs": []
    },
    {
      "cell_type": "code",
      "metadata": {
        "id": "tCE1tabk8hQ8"
      },
      "source": [
        "# definindo o formato dos dados para serem compativeis com a entrada da rede\n",
        "sequence_length = 300\n",
        "batch_size = 128\n",
        "\n",
        "# ajustando os padrões de entrada no formato de entrada da rede \n",
        "X_train_seq = pad_sequences(X_train, maxlen = sequence_length)\n",
        "X_test_seq = pad_sequences(X_test, maxlen = sequence_length)"
      ],
      "execution_count": 28,
      "outputs": []
    },
    {
      "cell_type": "code",
      "metadata": {
        "id": "23Bt2dD82Lub"
      },
      "source": [
        "# configurando a lib para converter os labels em numeros\n",
        "encoder = LabelEncoder()\n",
        "encoder.fit(y_train)\n",
        "\n",
        "# convertendo os labels em numeros\n",
        "y_train_transformed = encoder.transform(y_train).reshape(-1,1)\n",
        "y_test_transformed = encoder.transform(y_test).reshape(-1,1)"
      ],
      "execution_count": 29,
      "outputs": []
    },
    {
      "cell_type": "code",
      "metadata": {
        "colab": {
          "base_uri": "https://localhost:8080/"
        },
        "id": "GAZ4PkGV8pml",
        "outputId": "f159bba3-c67d-4492-b6f1-463af51b87be"
      },
      "source": [
        "# definindo a estrutura da LSTM\n",
        "model = Sequential()\n",
        "model.add(Embedding( num_words , 10 , input_length = sequence_length ))\n",
        "model.add(LSTM( 128 , dropout = 0.25, recurrent_dropout = 0.25))\n",
        "model.add(Dense(1, activation = 'sigmoid' ))\n",
        "model.summary()"
      ],
      "execution_count": 31,
      "outputs": [
        {
          "output_type": "stream",
          "text": [
            "Model: \"sequential_3\"\n",
            "_________________________________________________________________\n",
            "Layer (type)                 Output Shape              Param #   \n",
            "=================================================================\n",
            "embedding_2 (Embedding)      (None, 300, 10)           50000     \n",
            "_________________________________________________________________\n",
            "lstm_2 (LSTM)                (None, 128)               71168     \n",
            "_________________________________________________________________\n",
            "dense_2 (Dense)              (None, 1)                 129       \n",
            "=================================================================\n",
            "Total params: 121,297\n",
            "Trainable params: 121,297\n",
            "Non-trainable params: 0\n",
            "_________________________________________________________________\n"
          ],
          "name": "stdout"
        }
      ]
    },
    {
      "cell_type": "code",
      "metadata": {
        "id": "Oke2ac3W29Gc"
      },
      "source": [
        "# definindo o algoritmo de treinamento, a função de custo e a metrica de avaliação do conjunto de validação\n",
        "model.compile( optimizer = \"adam\" , loss = 'binary_crossentropy' , metrics = ['accuracy'] )"
      ],
      "execution_count": 32,
      "outputs": []
    },
    {
      "cell_type": "code",
      "metadata": {
        "id": "qz4nnAsr3Gz7"
      },
      "source": [
        "# definindo os criterios de interrupção do treinamento baseado no desempenho no conjunto de validação\n",
        "early_stopper = EarlyStopping( monitor = 'val_acc' , min_delta = 0.0005, patience = 3 )\n",
        "reduce_lr = ReduceLROnPlateau( monitor = 'val_loss' , patience = 2 , cooldown = 0)\n",
        "callbacks = [ reduce_lr , early_stopper]"
      ],
      "execution_count": 33,
      "outputs": []
    },
    {
      "cell_type": "code",
      "metadata": {
        "colab": {
          "base_uri": "https://localhost:8080/"
        },
        "id": "DWgtc7lC3QEZ",
        "outputId": "8d55e77b-7d83-4b30-adfa-bc441b4a72ef"
      },
      "source": [
        "# treinando o modelo\n",
        "train_history = model.fit( X_train_seq , y_train_transformed , batch_size = batch_size, epochs = 5,validation_split = 0.1 , verbose = 1 , callbacks = callbacks)"
      ],
      "execution_count": 34,
      "outputs": [
        {
          "output_type": "stream",
          "text": [
            "Epoch 1/5\n",
            "176/176 [==============================] - 206s 1s/step - loss: 0.6792 - accuracy: 0.5886 - val_loss: 0.6287 - val_accuracy: 0.6812\n",
            "WARNING:tensorflow:Early stopping conditioned on metric `val_acc` which is not available. Available metrics are: loss,accuracy,val_loss,val_accuracy,lr\n",
            "Epoch 2/5\n",
            "176/176 [==============================] - 202s 1s/step - loss: 0.4444 - accuracy: 0.8056 - val_loss: 0.3685 - val_accuracy: 0.8400\n",
            "WARNING:tensorflow:Early stopping conditioned on metric `val_acc` which is not available. Available metrics are: loss,accuracy,val_loss,val_accuracy,lr\n",
            "Epoch 3/5\n",
            "176/176 [==============================] - 203s 1s/step - loss: 0.3409 - accuracy: 0.8540 - val_loss: 0.5199 - val_accuracy: 0.7136\n",
            "WARNING:tensorflow:Early stopping conditioned on metric `val_acc` which is not available. Available metrics are: loss,accuracy,val_loss,val_accuracy,lr\n",
            "Epoch 4/5\n",
            "176/176 [==============================] - 203s 1s/step - loss: 0.3150 - accuracy: 0.8692 - val_loss: 0.3862 - val_accuracy: 0.8428\n",
            "WARNING:tensorflow:Early stopping conditioned on metric `val_acc` which is not available. Available metrics are: loss,accuracy,val_loss,val_accuracy,lr\n",
            "Epoch 5/5\n",
            "176/176 [==============================] - 203s 1s/step - loss: 0.2368 - accuracy: 0.9054 - val_loss: 0.3006 - val_accuracy: 0.8768\n",
            "WARNING:tensorflow:Early stopping conditioned on metric `val_acc` which is not available. Available metrics are: loss,accuracy,val_loss,val_accuracy,lr\n"
          ],
          "name": "stdout"
        }
      ]
    },
    {
      "cell_type": "code",
      "metadata": {
        "colab": {
          "base_uri": "https://localhost:8080/"
        },
        "id": "aKf5lIjj8uLF",
        "outputId": "ada84b05-8bfa-4d0d-e2e9-d33f81b2195d"
      },
      "source": [
        "# computando o desempenho da rede para o conjunto de teste\n",
        "score = model.evaluate( X_test_seq , y_test_transformed , batch_size = batch_size)\n",
        " \n",
        "# printando o resultado da rede \n",
        "print( \"Accuracy: {:0.4}\".format( score[1] ))\n",
        "print( \"Loss:\", score[0] )"
      ],
      "execution_count": 35,
      "outputs": [
        {
          "output_type": "stream",
          "text": [
            "196/196 [==============================] - 33s 168ms/step - loss: 0.3019 - accuracy: 0.8775\n",
            "Accuracy: 0.8775\n",
            "Loss: 0.3019023537635803\n"
          ],
          "name": "stdout"
        }
      ]
    },
    {
      "cell_type": "code",
      "metadata": {
        "colab": {
          "base_uri": "https://localhost:8080/"
        },
        "id": "e3RkfZs5GX7i",
        "outputId": "fa3b2bb8-8063-4940-aac9-3aa339173fe3"
      },
      "source": [
        "# computando a previsão para o conjunto de teste\n",
        "y_pred = model.predict( X_test_seq )\n",
        "\n",
        "# calculando a acuracia\n",
        "print(\"Accuracy: {:0.3}\".format(100 * accuracy_score(y_test_transformed, 1 * (y_pred > 0.5))))\n",
        " \n",
        "# calculando o F1-Score\n",
        "print(\"f1 score: {:0.3}\".format( 100*f1_score( y_test_transformed , 1 * ( y_pred > 0.5))))\n",
        " \n",
        "# calculando a curva ROC\n",
        "print(\"ROC AUC: {:0.3}\".format( roc_auc_score( y_test_transformed , y_pred)) )\n",
        " \n",
        "# printando os resultados\n",
        "print( classification_report( y_test_transformed , 1 * ( y_pred > 0.5 ),digits = 3) )"
      ],
      "execution_count": 36,
      "outputs": [
        {
          "output_type": "stream",
          "text": [
            "Accuracy: 87.7\n",
            "f1 score: 87.8\n",
            "ROC AUC: 0.948\n",
            "              precision    recall  f1-score   support\n",
            "\n",
            "           0      0.879     0.876     0.877     12500\n",
            "           1      0.876     0.879     0.878     12500\n",
            "\n",
            "    accuracy                          0.877     25000\n",
            "   macro avg      0.877     0.877     0.877     25000\n",
            "weighted avg      0.877     0.877     0.877     25000\n",
            "\n"
          ],
          "name": "stdout"
        }
      ]
    },
    {
      "cell_type": "code",
      "metadata": {
        "colab": {
          "base_uri": "https://localhost:8080/",
          "height": 350
        },
        "id": "g9woSZlj89y5",
        "outputId": "deef5ddf-d666-4577-d3aa-1f3a809c6827"
      },
      "source": [
        "# obtendo o erro da função de custo durante a etapa de treinamento\n",
        "loss = train_history.history['loss']\n",
        "validation_loss = train_history.history['val_loss']\n",
        "  \n",
        "# gerando o grafico que mostra a evolução da função de custo \n",
        "fig = plt.gcf()\n",
        "fig.set_size_inches(18.5, 5.5)\n",
        " \n",
        "plt.plot(loss)\n",
        "plt.plot(validation_loss)\n",
        " \n",
        "plt.legend(['loss', 'validation_loss'])\n",
        "plt.show()"
      ],
      "execution_count": 37,
      "outputs": [
        {
          "output_type": "display_data",
          "data": {
            "image/png": "[encoded data removed]",
            "text/plain": [
              "<Figure size 1332x396 with 1 Axes>"
            ]
          },
          "metadata": {
            "needs_background": "light"
          }
        }
      ]
    }
  ]
}