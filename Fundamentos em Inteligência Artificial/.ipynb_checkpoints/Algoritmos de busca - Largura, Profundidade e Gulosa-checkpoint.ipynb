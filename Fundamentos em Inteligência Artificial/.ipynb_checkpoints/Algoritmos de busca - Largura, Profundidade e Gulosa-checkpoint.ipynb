{
 "cells": [
  {
   "cell_type": "code",
   "execution_count": 1,
   "metadata": {},
   "outputs": [],
   "source": [
    "# definindo uma cidade\n",
    "class Cidade:\n",
    "    def __init__(self, nome, distanciaObjetivo):\n",
    "        '''\n",
    "        Construtor da cidade\n",
    "        '''\n",
    "        self.nome = nome\n",
    "        self.visitado = False\n",
    "        self.adjacentes = []\n",
    "        self.distanciaObjetivo = distanciaObjetivo\n",
    "        \n",
    "    def addCidadeAdjacente(self, cidade):\n",
    "        '''\n",
    "        Metodo para adicionar uma cidade vizinha\n",
    "        '''\n",
    "        self.adjacentes.append(cidade)"
   ]
  },
  {
   "cell_type": "code",
   "execution_count": 3,
   "metadata": {},
   "outputs": [
    {
     "name": "stdout",
     "output_type": "stream",
     "text": [
      "Maranguape\n",
      "False\n",
      "[]\n",
      "202\n"
     ]
    }
   ],
   "source": [
    "# como instanciar uma cidade\n",
    "c = Cidade(\"Maranguape\", 202)\n",
    "print(c.nome)\n",
    "print(c.visitado)\n",
    "print(c.adjacentes)\n",
    "print(c.distanciaObjetivo)"
   ]
  },
  {
   "cell_type": "code",
   "execution_count": 5,
   "metadata": {},
   "outputs": [],
   "source": [
    "# classe para somar as distancias de duas cidades vizinhas\n",
    "class Adjacente:\n",
    "    def __init__(self, cidade, distancia):\n",
    "        '''\n",
    "        Construtor e adjacente\n",
    "        '''\n",
    "        self.cidade = cidade\n",
    "        self.distancia = distancia\n",
    "\n",
    "        self.distanciaAEstrela = self.cidade.distanciaObjetivo + self.distancia"
   ]
  },
  {
   "cell_type": "code",
   "execution_count": null,
   "metadata": {},
   "outputs": [],
   "source": [
    "# criando um mapa com cidades conectadas\n",
    "class Mapa:\n",
    "    \n",
    "    # definindo um grupo de cidades\n",
    "    portoUniao = Cidade(\"Porto Uniao\", 203)\n",
    "    pauloFrontin = Cidade(\"Paulo Frontin\", 172)\n",
    "    canoinhas = Cidade(\"Canoinhas\", 141)\n",
    "    irati = Cidade(\"Irati\", 139)\n",
    "    palmeira = Cidade(\"Palmeira\", 59)\n",
    "    campoLargo = Cidade(\"Campo Largo\", 27)\n",
    "\n",
    "    # adicionando para cada cidade as suas cidades vizinhas\n",
    "    portoUniao.addCidadeAdjacente(Adjacente(canoinhas, 78))\n",
    "    portoUniao.addCidadeAdjacente(Adjacente(saoMateus, 87))\n",
    "    portoUniao.addCidadeAdjacente(Adjacente(pauloFrontin, 46))\n",
    "\n",
    "    pauloFrontin.addCidadeAdjacente(Adjacente(irati, 75))\n",
    "    pauloFrontin.addCidadeAdjacente(Adjacente(portoUniao, 46))\n",
    "    \n",
    "    canoinhas.addCidadeAdjacente(Adjacente(tresBarras,12 ))\n",
    "    canoinhas.addCidadeAdjacente(Adjacente(portoUniao,78))\n",
    "    canoinhas.addCidadeAdjacente(Adjacente(mafra,66))\n",
    "    \n",
    "    irati.addCidadeAdjacente(Adjacente(palmeira, 75))\n",
    "    irati.addCidadeAdjacente(Adjacente(saoMateus, 57))\n",
    "    irati.addCidadeAdjacente(Adjacente(pauloFrontin, 75))\n",
    "\n",
    "    \n",
    "    palmeira.addCidadeAdjacente(Adjacente(irati, 75))\n",
    "    palmeira.addCidadeAdjacente(Adjacente(saoMateus, 77))\n",
    "    palmeira.addCidadeAdjacente(Adjacente(campoLargo, 55))\n",
    "    \n",
    "    campoLargo.addCidadeAdjacente(Adjacente(palmeira, 55 ))\n",
    "    campoLargo.addCidadeAdjacente(Adjacente(balsaNova,22 ))\n",
    "    campoLargo.addCidadeAdjacente(Adjacente(curitiba, 29))"
   ]
  }
 ],
 "metadata": {
  "kernelspec": {
   "display_name": "Python 3",
   "language": "python",
   "name": "python3"
  },
  "language_info": {
   "codemirror_mode": {
    "name": "ipython",
    "version": 3
   },
   "file_extension": ".py",
   "mimetype": "text/x-python",
   "name": "python",
   "nbconvert_exporter": "python",
   "pygments_lexer": "ipython3",
   "version": "3.7.3"
  }
 },
 "nbformat": 4,
 "nbformat_minor": 2
}
