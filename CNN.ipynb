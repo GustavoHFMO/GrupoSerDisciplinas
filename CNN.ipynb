{
  "nbformat": 4,
  "nbformat_minor": 0,
  "metadata": {
    "colab": {
      "name": "CNN.ipynb",
      "provenance": [],
      "collapsed_sections": [],
      "authorship_tag": "ABX9TyOTyANYACc0/NOrWyZ1XEo2",
      "include_colab_link": true
    },
    "kernelspec": {
      "name": "python3",
      "display_name": "Python 3"
    },
    "language_info": {
      "name": "python"
    }
  },
  "cells": [
    {
      "cell_type": "markdown",
      "metadata": {
        "id": "view-in-github",
        "colab_type": "text"
      },
      "source": [
        "<a href=\"https://colab.research.google.com/github/GustavoHFMO/GrupoSerDisciplinas/blob/master/CNN.ipynb\" target=\"_parent\"><img src=\"https://colab.research.google.com/assets/colab-badge.svg\" alt=\"Open In Colab\"/></a>"
      ]
    },
    {
      "cell_type": "markdown",
      "metadata": {
        "id": "0aoERvYnwAQ0"
      },
      "source": [
        "Código adaptado de: https://datafai.com/2018/02/25/deep-learning-convolution-neural-network-cnn-in-python/"
      ]
    },
    {
      "cell_type": "code",
      "metadata": {
        "id": "9Yv5crhy_YZ6"
      },
      "source": [
        "# importando as bibliotecas\n",
        "from tensorflow.keras.utils import to_categorical\n",
        "from keras.layers import Dense, Dropout, Flatten\n",
        "from keras.layers import Conv2D, MaxPooling2D\n",
        "from keras.models import Sequential\n",
        "from keras.datasets import mnist\n",
        "from keras import backend as K\n",
        "import pandas as pd\n",
        "import numpy as np\n",
        "import keras"
      ],
      "execution_count": 25,
      "outputs": []
    },
    {
      "cell_type": "code",
      "metadata": {
        "id": "xpMelxHDw2BL"
      },
      "source": [
        "# definindo uma semente para poder replicar os resulados\n",
        "np.random.seed(30)"
      ],
      "execution_count": 26,
      "outputs": []
    },
    {
      "cell_type": "code",
      "metadata": {
        "id": "Qrk-2_hDAFDJ"
      },
      "source": [
        "# importando o dataset a ser utilizado e dividindo ele em treino e teste\n",
        "(x_train, y_train), (x_test, y_test) = mnist.load_data()"
      ],
      "execution_count": 27,
      "outputs": []
    },
    {
      "cell_type": "code",
      "metadata": {
        "colab": {
          "base_uri": "https://localhost:8080/",
          "height": 265
        },
        "id": "y7W_HI_hAYEo",
        "outputId": "aeae95de-1d97-468f-fbc4-9ba61ed6f891"
      },
      "source": [
        "# mostrando o formato do conjunto dos dados\n",
        "from matplotlib import pyplot as plt\n",
        "plt.imshow(x_train[6], cmap='gray')\n",
        "plt.show()"
      ],
      "execution_count": 28,
      "outputs": [
        {
          "output_type": "display_data",
          "data": {
            "image/png": "[encoded data removed]",
            "text/plain": [
              "<Figure size 432x288 with 1 Axes>"
            ]
          },
          "metadata": {
            "needs_background": "light"
          }
        }
      ]
    },
    {
      "cell_type": "code",
      "metadata": {
        "id": "AqfVCGXyAhgU"
      },
      "source": [
        "# ajustando o formato dos dados para serem compativeis com a CNN\n",
        "x_train = x_train.reshape(x_train.shape[0], 28, 28, 1)\n",
        "x_test = x_test.reshape(x_test.shape[0], 28, 28, 1)"
      ],
      "execution_count": 29,
      "outputs": []
    },
    {
      "cell_type": "code",
      "metadata": {
        "id": "RlPxhJi2Aq-Z"
      },
      "source": [
        "# realizando a noramalização dos dados, para que fiquem no intervalo de [0, 1]\n",
        "x_train = x_train/255\n",
        "x_test = x_test/255"
      ],
      "execution_count": 30,
      "outputs": []
    },
    {
      "cell_type": "code",
      "metadata": {
        "id": "D-rGrENRAxIc"
      },
      "source": [
        "# convertendo os labels que estavam em formato de string para numeros \n",
        "y_train = to_categorical(y_train, 10)\n",
        "y_test = to_categorical(y_test, 10)"
      ],
      "execution_count": 31,
      "outputs": []
    },
    {
      "cell_type": "code",
      "metadata": {
        "id": "RptvwRXSB_hD"
      },
      "source": [
        "# inicializando o modelo de CNN e definindo a sua estrutura\n",
        "model = Sequential()\n",
        "model.add(Conv2D(30, kernel_size=(3,3),\n",
        "          activation='relu',\n",
        "          input_shape=(28, 28, 1)))\n",
        "model.add(MaxPooling2D(pool_size=(2,2)))\n",
        "model.add(Dropout(0.25))\n",
        "model.add(Flatten())\n",
        "model.add(Dense(128, activation='relu'))\n",
        "model.add(Dropout(0.5))\n",
        "model.add(Dense(10, activation='softmax'))"
      ],
      "execution_count": 32,
      "outputs": []
    },
    {
      "cell_type": "code",
      "metadata": {
        "id": "gS9ipvTkxUJa"
      },
      "source": [
        "# compilando o modelo, para isso definimos a função de custo, o algoritmo de otimização e a métrica de validação\n",
        "model.compile(loss='categorical_crossentropy', optimizer='adam', metrics=['accuracy'])"
      ],
      "execution_count": 33,
      "outputs": []
    },
    {
      "cell_type": "code",
      "metadata": {
        "colab": {
          "base_uri": "https://localhost:8080/"
        },
        "id": "pwnHQNZdCmoB",
        "outputId": "9853d42e-62c0-41fd-d459-12e43270c4ed"
      },
      "source": [
        "# treinando o modelo com os dados de treinamento e validando com os de teste\n",
        "model.fit(x_train, y_train, \n",
        "          validation_data=(x_test, y_test), \n",
        "          epochs=15, \n",
        "          batch_size=100, \n",
        "          verbose=2)"
      ],
      "execution_count": 34,
      "outputs": [
        {
          "output_type": "stream",
          "text": [
            "Epoch 1/15\n",
            "600/600 - 21s - loss: 0.3319 - accuracy: 0.8984 - val_loss: 0.0961 - val_accuracy: 0.9697\n",
            "Epoch 2/15\n",
            "600/600 - 21s - loss: 0.1371 - accuracy: 0.9595 - val_loss: 0.0604 - val_accuracy: 0.9791\n",
            "Epoch 3/15\n",
            "600/600 - 21s - loss: 0.1032 - accuracy: 0.9687 - val_loss: 0.0515 - val_accuracy: 0.9822\n",
            "Epoch 4/15\n",
            "600/600 - 21s - loss: 0.0846 - accuracy: 0.9746 - val_loss: 0.0470 - val_accuracy: 0.9837\n",
            "Epoch 5/15\n",
            "600/600 - 21s - loss: 0.0787 - accuracy: 0.9757 - val_loss: 0.0425 - val_accuracy: 0.9850\n",
            "Epoch 6/15\n",
            "600/600 - 21s - loss: 0.0672 - accuracy: 0.9791 - val_loss: 0.0391 - val_accuracy: 0.9868\n",
            "Epoch 7/15\n",
            "600/600 - 21s - loss: 0.0615 - accuracy: 0.9808 - val_loss: 0.0379 - val_accuracy: 0.9874\n",
            "Epoch 8/15\n",
            "600/600 - 21s - loss: 0.0559 - accuracy: 0.9824 - val_loss: 0.0402 - val_accuracy: 0.9873\n",
            "Epoch 9/15\n",
            "600/600 - 21s - loss: 0.0517 - accuracy: 0.9839 - val_loss: 0.0371 - val_accuracy: 0.9883\n",
            "Epoch 10/15\n",
            "600/600 - 21s - loss: 0.0470 - accuracy: 0.9848 - val_loss: 0.0349 - val_accuracy: 0.9893\n",
            "Epoch 11/15\n",
            "600/600 - 21s - loss: 0.0436 - accuracy: 0.9858 - val_loss: 0.0361 - val_accuracy: 0.9883\n",
            "Epoch 12/15\n",
            "600/600 - 21s - loss: 0.0427 - accuracy: 0.9864 - val_loss: 0.0372 - val_accuracy: 0.9885\n",
            "Epoch 13/15\n",
            "600/600 - 21s - loss: 0.0388 - accuracy: 0.9876 - val_loss: 0.0350 - val_accuracy: 0.9899\n",
            "Epoch 14/15\n",
            "600/600 - 22s - loss: 0.0356 - accuracy: 0.9882 - val_loss: 0.0354 - val_accuracy: 0.9889\n",
            "Epoch 15/15\n",
            "600/600 - 21s - loss: 0.0368 - accuracy: 0.9879 - val_loss: 0.0349 - val_accuracy: 0.9893\n"
          ],
          "name": "stdout"
        },
        {
          "output_type": "execute_result",
          "data": {
            "text/plain": [
              "<keras.callbacks.History at 0x7feda387c1d0>"
            ]
          },
          "metadata": {},
          "execution_count": 34
        }
      ]
    },
    {
      "cell_type": "code",
      "metadata": {
        "colab": {
          "base_uri": "https://localhost:8080/"
        },
        "id": "bVpEWcTHC6IS",
        "outputId": "7de5e011-c75b-4fad-b20c-50bf90a91bb0"
      },
      "source": [
        "# calculando o desempenho da rede para o conjunto de teste e mostrando o resultado\n",
        "Accuracy = model.evaluate(x_test, y_test, verbose=0)\n",
        "print(\"CNN Accuracy: \", round(Accuracy[1]*100, 2))"
      ],
      "execution_count": 35,
      "outputs": [
        {
          "output_type": "stream",
          "text": [
            "CNN Accuracy:  98.93\n"
          ],
          "name": "stdout"
        }
      ]
    }
  ]
}