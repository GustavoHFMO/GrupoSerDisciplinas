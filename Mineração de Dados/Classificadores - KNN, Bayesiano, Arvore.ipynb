{
 "cells": [
  {
   "cell_type": "code",
   "execution_count": 28,
   "metadata": {},
   "outputs": [],
   "source": [
    "# importando as bibliotecas que vao ser usadas no projeto\n",
    "from sklearn.datasets import load_iris\n",
    "from sklearn.model_selection import train_test_split\n",
    "from sklearn.neighbors import KNeighborsClassifier\n",
    "from sklearn.naive_bayes import GaussianNB\n",
    "from sklearn import tree\n",
    "from sklearn.metrics import accuracy_score"
   ]
  },
  {
   "cell_type": "code",
   "execution_count": 29,
   "metadata": {},
   "outputs": [],
   "source": [
    "# importando o dataset iris \n",
    "X, y = load_iris(return_X_y=True)\n",
    "\n",
    "# dividindo o dataset em treinamento (70%) e teste (30$)%\n",
    "X_train, X_test, y_train, y_test = train_test_split(X, y, test_size=0.3, random_state=0)"
   ]
  },
  {
   "cell_type": "code",
   "execution_count": 30,
   "metadata": {},
   "outputs": [
    {
     "data": {
      "text/plain": [
       "KNeighborsClassifier(n_neighbors=3)"
      ]
     },
     "execution_count": 30,
     "metadata": {},
     "output_type": "execute_result"
    }
   ],
   "source": [
    "# instanciando o knn\n",
    "knn = KNeighborsClassifier(n_neighbors=3)\n",
    "\n",
    "# treinando o knn com os dados de treinamento\n",
    "knn.fit(X_train, y_train)"
   ]
  },
  {
   "cell_type": "code",
   "execution_count": 31,
   "metadata": {},
   "outputs": [
    {
     "data": {
      "text/plain": [
       "GaussianNB()"
      ]
     },
     "execution_count": 31,
     "metadata": {},
     "output_type": "execute_result"
    }
   ],
   "source": [
    "# instanciando o classificador bayesiano\n",
    "bayesiano = GaussianNB()\n",
    "\n",
    "# treinando o classificador bayesiano\n",
    "bayesiano.fit(X_train, y_train)"
   ]
  },
  {
   "cell_type": "code",
   "execution_count": 32,
   "metadata": {},
   "outputs": [
    {
     "data": {
      "text/plain": [
       "DecisionTreeClassifier()"
      ]
     },
     "execution_count": 32,
     "metadata": {},
     "output_type": "execute_result"
    }
   ],
   "source": [
    "# instanciando a arvore de decisao\n",
    "arvore = tree.DecisionTreeClassifier()\n",
    "\n",
    "# treinando a arvore de decisao\n",
    "arvore.fit(X_train, y_train)"
   ]
  },
  {
   "cell_type": "code",
   "execution_count": 33,
   "metadata": {},
   "outputs": [
    {
     "name": "stdout",
     "output_type": "stream",
     "text": [
      "Desempenho knn: 0.9777777777777777\n",
      "Desempenho bayesiano: 1.0\n",
      "Desempenho arvore: 0.9777777777777777\n"
     ]
    }
   ],
   "source": [
    "# avaliando os classificadores\n",
    "print(\"Desempenho knn:\", accuracy_score(y_test, knn.predict(X_test)))\n",
    "print(\"Desempenho bayesiano:\", accuracy_score(y_test, bayesiano.predict(X_test)))\n",
    "print(\"Desempenho arvore:\", accuracy_score(y_test, arvore.predict(X_test)))"
   ]
  }
 ],
 "metadata": {
  "kernelspec": {
   "display_name": "Python 3",
   "language": "python",
   "name": "python3"
  },
  "language_info": {
   "codemirror_mode": {
    "name": "ipython",
    "version": 3
   },
   "file_extension": ".py",
   "mimetype": "text/x-python",
   "name": "python",
   "nbconvert_exporter": "python",
   "pygments_lexer": "ipython3",
   "version": "3.7.3"
  }
 },
 "nbformat": 4,
 "nbformat_minor": 2
}
